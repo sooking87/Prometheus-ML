{
 "cells": [
  {
   "cell_type": "code",
   "execution_count": 1,
   "metadata": {},
   "outputs": [],
   "source": [
    "import torch as th\n",
    "import torch.nn as nn\n",
    "import torch.nn.functional as F\n",
    "import torch.optim as optim\n",
    "import torchvision\n",
    "import torchvision.transforms as transforms\n",
    "import matplotlib.pyplot as plt\n",
    "import numpy as np\n",
    "\n",
    "from torchvision.datasets.mnist import MNIST\n",
    "from torch.utils.data import DataLoader, Dataset, random_split"
   ]
  },
  {
   "cell_type": "code",
   "execution_count": 2,
   "metadata": {},
   "outputs": [],
   "source": [
    "import random\n",
    "\n",
    "seed = 1004\n",
    "random.seed(seed)\n",
    "th.manual_seed(seed)\n",
    "if th.cuda.is_available():\n",
    "    th.cuda.manual_seed(seed)"
   ]
  },
  {
   "cell_type": "code",
   "execution_count": 3,
   "metadata": {},
   "outputs": [],
   "source": [
    "# load dataset\n",
    "\n",
    "transform = transforms.Compose([transforms.ToTensor(),\n",
    "                                transforms.Normalize((0.1307,), (0.3081,))])\n",
    "\n",
    "train_dataset = MNIST(root='./data', train=True, download=True, transform=transform)\n",
    "test_dataset = MNIST(root='./data', train=False, download=True, transform=transform)"
   ]
  },
  {
   "cell_type": "code",
   "execution_count": 4,
   "metadata": {},
   "outputs": [],
   "source": [
    "train_dataset, val_dataset = random_split(train_dataset, [54000, 6000])"
   ]
  },
  {
   "cell_type": "code",
   "execution_count": 5,
   "metadata": {},
   "outputs": [
    {
     "name": "stdout",
     "output_type": "stream",
     "text": [
      "Train size: 54000\n",
      "Validation size: 6000\n",
      "Test size: 10000\n"
     ]
    }
   ],
   "source": [
    "print(f'Train size: {len(train_dataset)}')\n",
    "print(f'Validation size: {len(val_dataset)}')\n",
    "print(f'Test size: {len(test_dataset)}')"
   ]
  },
  {
   "cell_type": "code",
   "execution_count": 6,
   "metadata": {},
   "outputs": [],
   "source": [
    "trian_loader = DataLoader(train_dataset, batch_size=64, shuffle=True, drop_last=True)\n",
    "val_loader = DataLoader(val_dataset, batch_size=64, shuffle=True, drop_last=True)\n",
    "test_loader = DataLoader(test_dataset, batch_size=64, shuffle=True, drop_last=True)"
   ]
  },
  {
   "cell_type": "code",
   "execution_count": 7,
   "metadata": {},
   "outputs": [
    {
     "data": {
      "image/png": "[encoded data removed]",
      "text/plain": [
       "<Figure size 1080x216 with 5 Axes>"
      ]
     },
     "metadata": {
      "needs_background": "light"
     },
     "output_type": "display_data"
    }
   ],
   "source": [
    "num_sample = 5\n",
    "random_idx = np.random.randint(0, len(train_dataset), num_sample)\n",
    "\n",
    "plt.figure(figsize=(15, 3))\n",
    "for i, idx in enumerate(random_idx):\n",
    "    img, label = train_dataset[idx]\n",
    "    plt.subplot(1, num_sample, i+1)\n",
    "    plt.title(f'Label: {label}')\n",
    "    plt.imshow(img.squeeze(), cmap='gray')"
   ]
  },
  {
   "cell_type": "code",
   "execution_count": 8,
   "metadata": {},
   "outputs": [],
   "source": [
    "class Net(nn.Module):\n",
    "    def __init__(self):\n",
    "        super(Net, self).__init__()\n",
    "        self.fc1 = nn.Linear(28*28, 256)\n",
    "        self.fc2 = nn.Linear(256, 64)\n",
    "        self.fc3 = nn.Linear(64, 10)\n",
    "        \n",
    "    def forward(self, x):\n",
    "        x = x.view(-1, 28*28)\n",
    "        x = F.relu(self.fc1(x))\n",
    "        x = F.relu(self.fc2(x))\n",
    "        x = self.fc3(x)\n",
    "        out = F.log_softmax(x, dim=1)\n",
    "        return out"
   ]
  },
  {
   "cell_type": "code",
   "execution_count": 24,
   "metadata": {},
   "outputs": [],
   "source": [
    "def train(model, train_loader, optimizer, epoch, device):\n",
    "    model.train()\n",
    "    train_losses = []\n",
    "    for batch_idx, (data, target) in enumerate(train_loader):\n",
    "        data, target = data.to(device), target.to(device)\n",
    "        optimizer.zero_grad()\n",
    "        output = model(data)\n",
    "        loss = F.nll_loss(output, target)\n",
    "        train_losses.append(loss.item())\n",
    "        \n",
    "        loss.backward()\n",
    "        optimizer.step()\n",
    "        \n",
    "        if batch_idx % 100 == 0:\n",
    "            print(f'Train Epoch: {epoch} [{batch_idx * len(data)}/{len(train_loader.dataset)} '\n",
    "                  f'({100. * batch_idx / len(train_loader):.0f}%)]\\tLoss: {loss.item():.6f}')\n",
    "            \n",
    "    return np.mean(train_losses)\n",
    "\n",
    "def test(model, test_loader, device):\n",
    "    model.eval()\n",
    "    test_loss = 0\n",
    "    correct = 0\n",
    "\n",
    "    with th.no_grad():\n",
    "        for data, target in test_loader:\n",
    "            data, target = data.to(device), target.to(device)\n",
    "            output = model(data)\n",
    "            test_loss += F.nll_loss(output, target, reduction='sum').item()\n",
    "            pred = output.argmax(dim=1, keepdim=True)\n",
    "            correct += pred.eq(target.view_as(pred)).sum().item()\n",
    "\n",
    "    test_loss /= len(test_loader.dataset)\n",
    "\n",
    "    print(f'\\nTest set: Average loss: {test_loss:.4f}, '\n",
    "          f'Accuracy: {correct}/{len(test_loader.dataset)} ({100. * correct / len(test_loader.dataset)}%)\\n')\n",
    "\n",
    "    return test_loss"
   ]
  },
  {
   "cell_type": "code",
   "execution_count": 25,
   "metadata": {},
   "outputs": [],
   "source": [
    "def run(model,\n",
    "        train_loader,\n",
    "        val_loader,\n",
    "        test_loader,\n",
    "        optimizer,\n",
    "        num_epoch):\n",
    "    \n",
    "    device = th.device('cuda' if th.cuda.is_available() else 'cpu')\n",
    "    scheduler = optim.lr_scheduler.StepLR(optimizer, step_size=1, gamma=0.7)\n",
    "    model = model.to(device)\n",
    "    train_losses = []\n",
    "    val_losses = []\n",
    "    for epoch in range(1, num_epoch + 1):\n",
    "        train_loss = train(model, train_loader, optimizer, epoch, device)\n",
    "        val_loss = test(model, val_loader, device)\n",
    "        scheduler.step()\n",
    "\n",
    "        train_losses.append(train_loss)\n",
    "        val_losses.append(val_loss)\n",
    "\n",
    "    th.save(model.state_dict(), 'mnist.pt')\n",
    "\n",
    "    test_loss = test(model, test_loader, device)\n",
    "\n",
    "    return train_losses, val_losses, test_loss\n"
   ]
  },
  {
   "cell_type": "code",
   "execution_count": 26,
   "metadata": {},
   "outputs": [
    {
     "name": "stdout",
     "output_type": "stream",
     "text": [
      "Train Epoch: 1 [0/54000 (0%)]\tLoss: 2.290116\n",
      "Train Epoch: 1 [6400/54000 (12%)]\tLoss: 0.340545\n",
      "Train Epoch: 1 [12800/54000 (24%)]\tLoss: 0.124396\n",
      "Train Epoch: 1 [19200/54000 (36%)]\tLoss: 0.148082\n",
      "Train Epoch: 1 [25600/54000 (47%)]\tLoss: 0.092516\n",
      "Train Epoch: 1 [32000/54000 (59%)]\tLoss: 0.089472\n",
      "Train Epoch: 1 [38400/54000 (71%)]\tLoss: 0.175047\n",
      "Train Epoch: 1 [44800/54000 (83%)]\tLoss: 0.259994\n",
      "Train Epoch: 1 [51200/54000 (95%)]\tLoss: 0.357045\n",
      "\n",
      "Test set: Average loss: 0.1036, Accuracy: 5763/6000 (96.05%)\n",
      "\n",
      "Train Epoch: 2 [0/54000 (0%)]\tLoss: 0.138427\n",
      "Train Epoch: 2 [6400/54000 (12%)]\tLoss: 0.047439\n",
      "Train Epoch: 2 [12800/54000 (24%)]\tLoss: 0.097280\n",
      "Train Epoch: 2 [19200/54000 (36%)]\tLoss: 0.072376\n",
      "Train Epoch: 2 [25600/54000 (47%)]\tLoss: 0.041092\n",
      "Train Epoch: 2 [32000/54000 (59%)]\tLoss: 0.083693\n",
      "Train Epoch: 2 [38400/54000 (71%)]\tLoss: 0.236624\n",
      "Train Epoch: 2 [44800/54000 (83%)]\tLoss: 0.106424\n",
      "Train Epoch: 2 [51200/54000 (95%)]\tLoss: 0.151480\n",
      "\n",
      "Test set: Average loss: 0.0736, Accuracy: 5817/6000 (96.95%)\n",
      "\n",
      "Train Epoch: 3 [0/54000 (0%)]\tLoss: 0.049948\n",
      "Train Epoch: 3 [6400/54000 (12%)]\tLoss: 0.020121\n",
      "Train Epoch: 3 [12800/54000 (24%)]\tLoss: 0.007566\n",
      "Train Epoch: 3 [19200/54000 (36%)]\tLoss: 0.005686\n",
      "Train Epoch: 3 [25600/54000 (47%)]\tLoss: 0.002535\n",
      "Train Epoch: 3 [32000/54000 (59%)]\tLoss: 0.096781\n",
      "Train Epoch: 3 [38400/54000 (71%)]\tLoss: 0.032872\n",
      "Train Epoch: 3 [44800/54000 (83%)]\tLoss: 0.019807\n",
      "Train Epoch: 3 [51200/54000 (95%)]\tLoss: 0.180909\n",
      "\n",
      "Test set: Average loss: 0.0643, Accuracy: 5835/6000 (97.25%)\n",
      "\n",
      "Train Epoch: 4 [0/54000 (0%)]\tLoss: 0.111029\n",
      "Train Epoch: 4 [6400/54000 (12%)]\tLoss: 0.001383\n",
      "Train Epoch: 4 [12800/54000 (24%)]\tLoss: 0.007126\n",
      "Train Epoch: 4 [19200/54000 (36%)]\tLoss: 0.002471\n",
      "Train Epoch: 4 [25600/54000 (47%)]\tLoss: 0.069669\n",
      "Train Epoch: 4 [32000/54000 (59%)]\tLoss: 0.005013\n",
      "Train Epoch: 4 [38400/54000 (71%)]\tLoss: 0.020698\n",
      "Train Epoch: 4 [44800/54000 (83%)]\tLoss: 0.019232\n",
      "Train Epoch: 4 [51200/54000 (95%)]\tLoss: 0.004075\n",
      "\n",
      "Test set: Average loss: 0.0669, Accuracy: 5841/6000 (97.35%)\n",
      "\n",
      "Train Epoch: 5 [0/54000 (0%)]\tLoss: 0.071639\n",
      "Train Epoch: 5 [6400/54000 (12%)]\tLoss: 0.000469\n",
      "Train Epoch: 5 [12800/54000 (24%)]\tLoss: 0.048710\n",
      "Train Epoch: 5 [19200/54000 (36%)]\tLoss: 0.012797\n",
      "Train Epoch: 5 [25600/54000 (47%)]\tLoss: 0.000193\n",
      "Train Epoch: 5 [32000/54000 (59%)]\tLoss: 0.011673\n",
      "Train Epoch: 5 [38400/54000 (71%)]\tLoss: 0.001813\n",
      "Train Epoch: 5 [44800/54000 (83%)]\tLoss: 0.007429\n",
      "Train Epoch: 5 [51200/54000 (95%)]\tLoss: 0.001649\n",
      "\n",
      "Test set: Average loss: 0.0602, Accuracy: 5851/6000 (97.51666666666667%)\n",
      "\n",
      "Train Epoch: 6 [0/54000 (0%)]\tLoss: 0.005777\n",
      "Train Epoch: 6 [6400/54000 (12%)]\tLoss: 0.002244\n",
      "Train Epoch: 6 [12800/54000 (24%)]\tLoss: 0.006837\n",
      "Train Epoch: 6 [19200/54000 (36%)]\tLoss: 0.026893\n",
      "Train Epoch: 6 [25600/54000 (47%)]\tLoss: 0.009607\n",
      "Train Epoch: 6 [32000/54000 (59%)]\tLoss: 0.002884\n",
      "Train Epoch: 6 [38400/54000 (71%)]\tLoss: 0.001143\n",
      "Train Epoch: 6 [44800/54000 (83%)]\tLoss: 0.005950\n",
      "Train Epoch: 6 [51200/54000 (95%)]\tLoss: 0.001819\n",
      "\n",
      "Test set: Average loss: 0.0616, Accuracy: 5853/6000 (97.55%)\n",
      "\n",
      "Train Epoch: 7 [0/54000 (0%)]\tLoss: 0.000471\n",
      "Train Epoch: 7 [6400/54000 (12%)]\tLoss: 0.001275\n",
      "Train Epoch: 7 [12800/54000 (24%)]\tLoss: 0.028943\n",
      "Train Epoch: 7 [19200/54000 (36%)]\tLoss: 0.001729\n",
      "Train Epoch: 7 [25600/54000 (47%)]\tLoss: 0.018981\n",
      "Train Epoch: 7 [32000/54000 (59%)]\tLoss: 0.122198\n",
      "Train Epoch: 7 [38400/54000 (71%)]\tLoss: 0.032009\n",
      "Train Epoch: 7 [44800/54000 (83%)]\tLoss: 0.007192\n",
      "Train Epoch: 7 [51200/54000 (95%)]\tLoss: 0.006636\n",
      "\n",
      "Test set: Average loss: 0.0623, Accuracy: 5855/6000 (97.58333333333333%)\n",
      "\n",
      "Train Epoch: 8 [0/54000 (0%)]\tLoss: 0.000514\n",
      "Train Epoch: 8 [6400/54000 (12%)]\tLoss: 0.002210\n",
      "Train Epoch: 8 [12800/54000 (24%)]\tLoss: 0.000653\n",
      "Train Epoch: 8 [19200/54000 (36%)]\tLoss: 0.000859\n",
      "Train Epoch: 8 [25600/54000 (47%)]\tLoss: 0.002130\n",
      "Train Epoch: 8 [32000/54000 (59%)]\tLoss: 0.002496\n",
      "Train Epoch: 8 [38400/54000 (71%)]\tLoss: 0.001686\n",
      "Train Epoch: 8 [44800/54000 (83%)]\tLoss: 0.002594\n",
      "Train Epoch: 8 [51200/54000 (95%)]\tLoss: 0.004704\n",
      "\n",
      "Test set: Average loss: 0.0662, Accuracy: 5846/6000 (97.43333333333334%)\n",
      "\n",
      "Train Epoch: 9 [0/54000 (0%)]\tLoss: 0.004573\n",
      "Train Epoch: 9 [6400/54000 (12%)]\tLoss: 0.003458\n",
      "Train Epoch: 9 [12800/54000 (24%)]\tLoss: 0.001482\n",
      "Train Epoch: 9 [19200/54000 (36%)]\tLoss: 0.001075\n",
      "Train Epoch: 9 [25600/54000 (47%)]\tLoss: 0.000253\n",
      "Train Epoch: 9 [32000/54000 (59%)]\tLoss: 0.012166\n",
      "Train Epoch: 9 [38400/54000 (71%)]\tLoss: 0.002927\n",
      "Train Epoch: 9 [44800/54000 (83%)]\tLoss: 0.001598\n",
      "Train Epoch: 9 [51200/54000 (95%)]\tLoss: 0.000801\n",
      "\n",
      "Test set: Average loss: 0.0646, Accuracy: 5850/6000 (97.5%)\n",
      "\n",
      "Train Epoch: 10 [0/54000 (0%)]\tLoss: 0.024055\n",
      "Train Epoch: 10 [6400/54000 (12%)]\tLoss: 0.003215\n",
      "Train Epoch: 10 [12800/54000 (24%)]\tLoss: 0.000715\n",
      "Train Epoch: 10 [19200/54000 (36%)]\tLoss: 0.005151\n",
      "Train Epoch: 10 [25600/54000 (47%)]\tLoss: 0.006444\n",
      "Train Epoch: 10 [32000/54000 (59%)]\tLoss: 0.003831\n",
      "Train Epoch: 10 [38400/54000 (71%)]\tLoss: 0.001238\n",
      "Train Epoch: 10 [44800/54000 (83%)]\tLoss: 0.010126\n",
      "Train Epoch: 10 [51200/54000 (95%)]\tLoss: 0.005108\n",
      "\n",
      "Test set: Average loss: 0.0650, Accuracy: 5852/6000 (97.53333333333333%)\n",
      "\n",
      "Train Epoch: 11 [0/54000 (0%)]\tLoss: 0.004176\n",
      "Train Epoch: 11 [6400/54000 (12%)]\tLoss: 0.001390\n",
      "Train Epoch: 11 [12800/54000 (24%)]\tLoss: 0.003536\n",
      "Train Epoch: 11 [19200/54000 (36%)]\tLoss: 0.001324\n",
      "Train Epoch: 11 [25600/54000 (47%)]\tLoss: 0.001110\n",
      "Train Epoch: 11 [32000/54000 (59%)]\tLoss: 0.006425\n",
      "Train Epoch: 11 [38400/54000 (71%)]\tLoss: 0.002311\n",
      "Train Epoch: 11 [44800/54000 (83%)]\tLoss: 0.000708\n",
      "Train Epoch: 11 [51200/54000 (95%)]\tLoss: 0.000706\n",
      "\n",
      "Test set: Average loss: 0.0658, Accuracy: 5850/6000 (97.5%)\n",
      "\n",
      "Train Epoch: 12 [0/54000 (0%)]\tLoss: 0.002110\n",
      "Train Epoch: 12 [6400/54000 (12%)]\tLoss: 0.000811\n",
      "Train Epoch: 12 [12800/54000 (24%)]\tLoss: 0.000304\n",
      "Train Epoch: 12 [19200/54000 (36%)]\tLoss: 0.000187\n",
      "Train Epoch: 12 [25600/54000 (47%)]\tLoss: 0.000406\n",
      "Train Epoch: 12 [32000/54000 (59%)]\tLoss: 0.002992\n",
      "Train Epoch: 12 [38400/54000 (71%)]\tLoss: 0.000570\n",
      "Train Epoch: 12 [44800/54000 (83%)]\tLoss: 0.003721\n",
      "Train Epoch: 12 [51200/54000 (95%)]\tLoss: 0.002218\n",
      "\n",
      "Test set: Average loss: 0.0667, Accuracy: 5852/6000 (97.53333333333333%)\n",
      "\n",
      "Train Epoch: 13 [0/54000 (0%)]\tLoss: 0.005235\n",
      "Train Epoch: 13 [6400/54000 (12%)]\tLoss: 0.000617\n",
      "Train Epoch: 13 [12800/54000 (24%)]\tLoss: 0.000451\n",
      "Train Epoch: 13 [19200/54000 (36%)]\tLoss: 0.025560\n",
      "Train Epoch: 13 [25600/54000 (47%)]\tLoss: 0.001568\n",
      "Train Epoch: 13 [32000/54000 (59%)]\tLoss: 0.080265\n",
      "Train Epoch: 13 [38400/54000 (71%)]\tLoss: 0.000361\n",
      "Train Epoch: 13 [44800/54000 (83%)]\tLoss: 0.000235\n",
      "Train Epoch: 13 [51200/54000 (95%)]\tLoss: 0.001616\n",
      "\n",
      "Test set: Average loss: 0.0664, Accuracy: 5852/6000 (97.53333333333333%)\n",
      "\n",
      "Train Epoch: 14 [0/54000 (0%)]\tLoss: 0.003566\n",
      "Train Epoch: 14 [6400/54000 (12%)]\tLoss: 0.002623\n",
      "Train Epoch: 14 [12800/54000 (24%)]\tLoss: 0.002836\n",
      "Train Epoch: 14 [19200/54000 (36%)]\tLoss: 0.003967\n",
      "Train Epoch: 14 [25600/54000 (47%)]\tLoss: 0.002019\n",
      "Train Epoch: 14 [32000/54000 (59%)]\tLoss: 0.038968\n",
      "Train Epoch: 14 [38400/54000 (71%)]\tLoss: 0.000986\n",
      "Train Epoch: 14 [44800/54000 (83%)]\tLoss: 0.004014\n",
      "Train Epoch: 14 [51200/54000 (95%)]\tLoss: 0.003541\n",
      "\n",
      "Test set: Average loss: 0.0658, Accuracy: 5854/6000 (97.56666666666666%)\n",
      "\n",
      "\n",
      "Test set: Average loss: 0.0681, Accuracy: 9808/10000 (98.08%)\n",
      "\n"
     ]
    }
   ],
   "source": [
    "model = Net()\n",
    "optimizer = optim.Adadelta(model.parameters(), lr=1.0)\n",
    "history = run(model, trian_loader, val_loader, test_loader, optimizer, 14)"
   ]
  },
  {
   "cell_type": "code",
   "execution_count": 35,
   "metadata": {},
   "outputs": [
    {
     "data": {
      "image/png": "[encoded data removed]",
      "text/plain": [
       "<Figure size 864x288 with 2 Axes>"
      ]
     },
     "metadata": {
      "needs_background": "light"
     },
     "output_type": "display_data"
    }
   ],
   "source": [
    "fig, ax = plt.subplots(1, 2, figsize=(12, 4))\n",
    "ax[0].plot(history[0], label='train')\n",
    "ax[1].plot(history[1], label='val')\n",
    "ax[0].set_title('Train loss')\n",
    "ax[1].set_title('Val loss')\n",
    "ax[0].legend()\n",
    "ax[1].legend()\n",
    "ax[0].grid(True)\n",
    "ax[1].grid(True)"
   ]
  },
  {
   "cell_type": "code",
   "execution_count": 45,
   "metadata": {},
   "outputs": [
    {
     "name": "stdout",
     "output_type": "stream",
     "text": [
      "\n",
      "Test set: Average loss: 0.0681, Accuracy: 9808/10000 (98.08%)\n",
      "\n"
     ]
    },
    {
     "data": {
      "text/plain": [
       "0.06812374950675294"
      ]
     },
     "execution_count": 45,
     "metadata": {},
     "output_type": "execute_result"
    }
   ],
   "source": [
    "test(model, test_loader, th.device('cuda'))"
   ]
  },
  {
   "cell_type": "code",
   "execution_count": 48,
   "metadata": {},
   "outputs": [],
   "source": [
    "pred_ys = model(th.stack([test_dataset[i][0] for i in range(len(test_dataset))]).to(th.device('cuda'))).argmax(dim=1).cpu().numpy()"
   ]
  },
  {
   "cell_type": "code",
   "execution_count": 49,
   "metadata": {},
   "outputs": [
    {
     "data": {
      "text/plain": [
       "(10000,)"
      ]
     },
     "execution_count": 49,
     "metadata": {},
     "output_type": "execute_result"
    }
   ],
   "source": [
    "pred_ys.shape"
   ]
  },
  {
   "cell_type": "code",
   "execution_count": 54,
   "metadata": {},
   "outputs": [
    {
     "data": {
      "text/plain": [
       "0.9824"
      ]
     },
     "execution_count": 54,
     "metadata": {},
     "output_type": "execute_result"
    }
   ],
   "source": [
    "(pred_ys == np.array([test_dataset[i][1] for i in range(len(test_dataset))])).sum() / len(test_dataset)"
   ]
  },
  {
   "cell_type": "code",
   "execution_count": 57,
   "metadata": {},
   "outputs": [
    {
     "data": {
      "image/png": "[encoded data removed]",
      "text/plain": [
       "<Figure size 432x288 with 1 Axes>"
      ]
     },
     "metadata": {
      "needs_background": "light"
     },
     "output_type": "display_data"
    }
   ],
   "source": [
    "plt.imshow(test_dataset[1010][0].squeeze(), cmap='gray')\n",
    "plt.title(f'Label: {pred_ys[1010]}')\n",
    "plt.show()"
   ]
  },
  {
   "cell_type": "code",
   "execution_count": null,
   "metadata": {},
   "outputs": [],
   "source": []
  }
 ],
 "metadata": {
  "kernelspec": {
   "display_name": "Python 3",
   "language": "python",
   "name": "python3"
  },
  "language_info": {
   "codemirror_mode": {
    "name": "ipython",
    "version": 3
   },
   "file_extension": ".py",
   "mimetype": "text/x-python",
   "name": "python",
   "nbconvert_exporter": "python",
   "pygments_lexer": "ipython3",
   "version": "3.10.5 (tags/v3.10.5:f377153, Jun  6 2022, 16:14:13) [MSC v.1929 64 bit (AMD64)]"
  },
  "orig_nbformat": 4,
  "vscode": {
   "interpreter": {
    "hash": "35e0334895c7257ffa902a82750dbe09ec85e290cbc1321a3819ebf1c9410545"
   }
  }
 },
 "nbformat": 4,
 "nbformat_minor": 2
}
