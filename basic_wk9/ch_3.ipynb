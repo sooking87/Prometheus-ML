{
 "cells": [
  {
   "attachments": {},
   "cell_type": "markdown",
   "metadata": {},
   "source": [
    "## 언어 모델"
   ]
  },
  {
   "attachments": {},
   "cell_type": "markdown",
   "metadata": {},
   "source": [
    "## 통계적 언어 모델"
   ]
  },
  {
   "cell_type": "code",
   "execution_count": null,
   "metadata": {},
   "outputs": [],
   "source": [
    "# 문장에 대한 확률(조건부 확률)\n",
    "#* 다음 단어에 대한 예측 화률을 곱해나간다.\n",
    "# 카운트 기반의 접근\n",
    "#* SLM -> An adorable little boy 다음에 is가 나올 확률을 카운트 기반으로 나타냄\n",
    "#* 단: 충분한 데이터셋이 없으면 언어를 정확히 모델링하지 못하는 희소 문제 발생"
   ]
  },
  {
   "attachments": {},
   "cell_type": "markdown",
   "metadata": {},
   "source": [
    "## N-gram 언어 모델"
   ]
  },
  {
   "cell_type": "code",
   "execution_count": null,
   "metadata": {},
   "outputs": [],
   "source": [
    "# SLM의 단점을 해결해준 모델\n",
    "# An adorable little boy 중 임의의 개수만 포함해서 카운트치는 방식(단어 뭉치 단위로 끊어서 하나의 토큰으로 간주)\n",
    "# 그 다음 단어 뭉치 예측은 앞 단어 뭉치의 개수가 n이라면 앞의 n-1개에 해당하는 단어만을 고려해서 마지막 단어 한개를 예측\n",
    "#* 단: n의 크기가 커질수록 모델 사이즈가 커진다. -> n은 5를 넘겨서는 안된다고 권장"
   ]
  }
 ],
 "metadata": {
  "kernelspec": {
   "display_name": "Python 3",
   "language": "python",
   "name": "python3"
  },
  "language_info": {
   "name": "python",
   "version": "3.10.5 (tags/v3.10.5:f377153, Jun  6 2022, 16:14:13) [MSC v.1929 64 bit (AMD64)]"
  },
  "orig_nbformat": 4,
  "vscode": {
   "interpreter": {
    "hash": "35e0334895c7257ffa902a82750dbe09ec85e290cbc1321a3819ebf1c9410545"
   }
  }
 },
 "nbformat": 4,
 "nbformat_minor": 2
}
