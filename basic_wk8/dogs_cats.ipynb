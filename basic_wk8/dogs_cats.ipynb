{
 "cells": [
  {
   "cell_type": "code",
   "execution_count": 15,
   "metadata": {},
   "outputs": [],
   "source": [
    "import os\n",
    "import numpy as np\n",
    "import pandas as pd"
   ]
  },
  {
   "cell_type": "code",
   "execution_count": 16,
   "metadata": {},
   "outputs": [],
   "source": [
    "trainDataset = os.listdir('dogs_vs_cats/train/')\n",
    "testDataset = os.listdir('dogs_vs_cats/test1')"
   ]
  },
  {
   "cell_type": "code",
   "execution_count": 17,
   "metadata": {},
   "outputs": [
    {
     "name": "stdout",
     "output_type": "stream",
     "text": [
      "              0  1\n",
      "0     cat.0.jpg  1\n",
      "1     cat.1.jpg  1\n",
      "2    cat.10.jpg  1\n",
      "3   cat.100.jpg  1\n",
      "4  cat.1000.jpg  1\n"
     ]
    }
   ],
   "source": [
    "train = []\n",
    "for img in trainDataset:\n",
    "    temp = []\n",
    "    temp.append(img)\n",
    "    category = img.split('.')[0]\n",
    "    # dog = 0, cat = 1\n",
    "    if category == 'dog':\n",
    "        temp.append(0)\n",
    "    else:\n",
    "        temp.append(1)\n",
    "    train.append(temp)\n",
    "    \n",
    "trainPd = pd.DataFrame(train)\n",
    "print(trainPd.head())"
   ]
  },
  {
   "cell_type": "code",
   "execution_count": 19,
   "metadata": {},
   "outputs": [],
   "source": [
    "import torch\n",
    "import torchvision\n",
    "import torchvision.transforms as transforms\n",
    "import matplotlib.pyplot as plt\n"
   ]
  },
  {
   "attachments": {},
   "cell_type": "markdown",
   "metadata": {},
   "source": [
    "dog랑 cats의 수를 먼저 봐야됨 -> 둘다 12500\n",
    "특징을 보기위해서 transform을 이용해서 뒤집거나 좌우 반전을 시킴"
   ]
  },
  {
   "cell_type": "code",
   "execution_count": null,
   "metadata": {},
   "outputs": [],
   "source": [
    "# 이미지 처리를 해주기 위해서 필요 -> ToTensor를 통해서 0~255값을 0~1로 바꾸어주고 Normalize를 통해서 값 변화를 낮춘다\n",
    "transform = transforms.Compose(\n",
    "    [transforms.ToTensor(),\n",
    "     transforms.Normalize((0.5, 0.5, 0.5), (0.5, 0.5, 0.5))])\n",
    "\n",
    "batch_size = 4\n",
    "\n",
    "trainset = torchvision.datasets.CIFAR10(root='./dogs_vs_cats/train', train=True,\n",
    "                                        download=False, transform=transform)\n",
    "trainloader = torch.utils.data.DataLoader(trainset, batch_size=batch_size,\n",
    "                                          shuffle=True, num_workers=2)\n",
    "\n",
    "testset = torchvision.datasets.CIFAR10(root='./dogs_vs_cats/test1', train=False,\n",
    "                                       download=False, transform=transform)\n",
    "testloader = torch.utils.data.DataLoader(testset, batch_size=batch_size,\n",
    "                                         shuffle=False, num_workers=2)\n",
    "\n",
    "classes = ('dogs', 'cats')\n"
   ]
  }
 ],
 "metadata": {
  "kernelspec": {
   "display_name": "Python 3",
   "language": "python",
   "name": "python3"
  },
  "language_info": {
   "codemirror_mode": {
    "name": "ipython",
    "version": 3
   },
   "file_extension": ".py",
   "mimetype": "text/x-python",
   "name": "python",
   "nbconvert_exporter": "python",
   "pygments_lexer": "ipython3",
   "version": "3.10.5 (tags/v3.10.5:f377153, Jun  6 2022, 16:14:13) [MSC v.1929 64 bit (AMD64)]"
  },
  "orig_nbformat": 4,
  "vscode": {
   "interpreter": {
    "hash": "35e0334895c7257ffa902a82750dbe09ec85e290cbc1321a3819ebf1c9410545"
   }
  }
 },
 "nbformat": 4,
 "nbformat_minor": 2
}
